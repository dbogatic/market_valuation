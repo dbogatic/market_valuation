{
 "cells": [
  {
   "cell_type": "markdown",
   "metadata": {},
   "source": [
    "# Buffett Indicator\n",
    "### The Buffett Indicator is the ratio of total United States stock market valuation to GDP.\n",
    "### The most common measurement of the aggregate value of the US stock market is the Wilshire 5000.\n",
    "\n",
    "Source:\n",
    "[FRED](https://fred.stlouisfed.org/graph/?g=qLC)"
   ]
  },
  {
   "cell_type": "code",
   "execution_count": 1,
   "metadata": {},
   "outputs": [],
   "source": [
    "import pandas as pd\n",
    "import numpy as np\n",
    "import os\n",
    "from dotenv import load_dotenv\n",
    "import fredapi\n",
    "from fredapi import Fred\n",
    "import matplotlib.pyplot as plt\n",
    "%matplotlib inline"
   ]
  },
  {
   "cell_type": "code",
   "execution_count": 2,
   "metadata": {},
   "outputs": [
    {
     "data": {
      "text/plain": [
       "True"
      ]
     },
     "execution_count": 2,
     "metadata": {},
     "output_type": "execute_result"
    }
   ],
   "source": [
    "load_dotenv()"
   ]
  },
  {
   "cell_type": "code",
   "execution_count": 3,
   "metadata": {},
   "outputs": [],
   "source": [
    "api_key = os.getenv('FRED_API_KEY')\n",
    "fred = Fred(api_key=api_key)"
   ]
  },
  {
   "cell_type": "code",
   "execution_count": 4,
   "metadata": {},
   "outputs": [
    {
     "data": {
      "text/html": [
       "<div>\n",
       "<style scoped>\n",
       "    .dataframe tbody tr th:only-of-type {\n",
       "        vertical-align: middle;\n",
       "    }\n",
       "\n",
       "    .dataframe tbody tr th {\n",
       "        vertical-align: top;\n",
       "    }\n",
       "\n",
       "    .dataframe thead th {\n",
       "        text-align: right;\n",
       "    }\n",
       "</style>\n",
       "<table border=\"1\" class=\"dataframe\">\n",
       "  <thead>\n",
       "    <tr style=\"text-align: right;\">\n",
       "      <th></th>\n",
       "      <th>wilshire5K</th>\n",
       "    </tr>\n",
       "  </thead>\n",
       "  <tbody>\n",
       "    <tr>\n",
       "      <th>2022-08-05</th>\n",
       "      <td>42215.25</td>\n",
       "    </tr>\n",
       "    <tr>\n",
       "      <th>2022-08-08</th>\n",
       "      <td>42211.76</td>\n",
       "    </tr>\n",
       "    <tr>\n",
       "      <th>2022-08-09</th>\n",
       "      <td>41972.53</td>\n",
       "    </tr>\n",
       "    <tr>\n",
       "      <th>2022-08-10</th>\n",
       "      <td>42924.77</td>\n",
       "    </tr>\n",
       "    <tr>\n",
       "      <th>2022-08-11</th>\n",
       "      <td>42897.31</td>\n",
       "    </tr>\n",
       "  </tbody>\n",
       "</table>\n",
       "</div>"
      ],
      "text/plain": [
       "            wilshire5K\n",
       "2022-08-05    42215.25\n",
       "2022-08-08    42211.76\n",
       "2022-08-09    41972.53\n",
       "2022-08-10    42924.77\n",
       "2022-08-11    42897.31"
      ]
     },
     "execution_count": 4,
     "metadata": {},
     "output_type": "execute_result"
    }
   ],
   "source": [
    "# Pull WIlshire 5000 Price data\n",
    "wilshire_price = fred.get_series('WILL5000PR', observation_start='1970-01-01')\n",
    "wilshire_price = pd.DataFrame(wilshire_price, columns={'wilshire5K'})\n",
    "wilshire_price = wilshire_price.dropna()\n",
    "wilshire_price.tail()"
   ]
  },
  {
   "cell_type": "code",
   "execution_count": 5,
   "metadata": {},
   "outputs": [
    {
     "data": {
      "text/html": [
       "<div>\n",
       "<style scoped>\n",
       "    .dataframe tbody tr th:only-of-type {\n",
       "        vertical-align: middle;\n",
       "    }\n",
       "\n",
       "    .dataframe tbody tr th {\n",
       "        vertical-align: top;\n",
       "    }\n",
       "\n",
       "    .dataframe thead th {\n",
       "        text-align: right;\n",
       "    }\n",
       "</style>\n",
       "<table border=\"1\" class=\"dataframe\">\n",
       "  <thead>\n",
       "    <tr style=\"text-align: right;\">\n",
       "      <th></th>\n",
       "      <th>GDP</th>\n",
       "    </tr>\n",
       "  </thead>\n",
       "  <tbody>\n",
       "    <tr>\n",
       "      <th>2022-03-28</th>\n",
       "      <td>24386.734</td>\n",
       "    </tr>\n",
       "    <tr>\n",
       "      <th>2022-03-29</th>\n",
       "      <td>24386.734</td>\n",
       "    </tr>\n",
       "    <tr>\n",
       "      <th>2022-03-30</th>\n",
       "      <td>24386.734</td>\n",
       "    </tr>\n",
       "    <tr>\n",
       "      <th>2022-03-31</th>\n",
       "      <td>24386.734</td>\n",
       "    </tr>\n",
       "    <tr>\n",
       "      <th>2022-04-01</th>\n",
       "      <td>24851.809</td>\n",
       "    </tr>\n",
       "  </tbody>\n",
       "</table>\n",
       "</div>"
      ],
      "text/plain": [
       "                  GDP\n",
       "2022-03-28  24386.734\n",
       "2022-03-29  24386.734\n",
       "2022-03-30  24386.734\n",
       "2022-03-31  24386.734\n",
       "2022-04-01  24851.809"
      ]
     },
     "execution_count": 5,
     "metadata": {},
     "output_type": "execute_result"
    }
   ],
   "source": [
    "# Pull US GDP data and set frequency data to daily and ffill data\n",
    "gdp_data = fred.get_series('GDP', observation_start='1970-01-01').asfreq('d').ffill()\n",
    "gdp_data = pd.DataFrame(gdp_data, columns={'GDP'})\n",
    "gdp_data.tail()"
   ]
  },
  {
   "cell_type": "code",
   "execution_count": 6,
   "metadata": {},
   "outputs": [
    {
     "data": {
      "text/html": [
       "<div>\n",
       "<style scoped>\n",
       "    .dataframe tbody tr th:only-of-type {\n",
       "        vertical-align: middle;\n",
       "    }\n",
       "\n",
       "    .dataframe tbody tr th {\n",
       "        vertical-align: top;\n",
       "    }\n",
       "\n",
       "    .dataframe thead th {\n",
       "        text-align: right;\n",
       "    }\n",
       "</style>\n",
       "<table border=\"1\" class=\"dataframe\">\n",
       "  <thead>\n",
       "    <tr style=\"text-align: right;\">\n",
       "      <th></th>\n",
       "      <th>wilshire5K</th>\n",
       "      <th>GDP</th>\n",
       "      <th>buffett_ind</th>\n",
       "    </tr>\n",
       "  </thead>\n",
       "  <tbody>\n",
       "    <tr>\n",
       "      <th>2022-03-28</th>\n",
       "      <td>46693.42</td>\n",
       "      <td>24386.734</td>\n",
       "      <td>1.914706</td>\n",
       "    </tr>\n",
       "    <tr>\n",
       "      <th>2022-03-29</th>\n",
       "      <td>47349.95</td>\n",
       "      <td>24386.734</td>\n",
       "      <td>1.941627</td>\n",
       "    </tr>\n",
       "    <tr>\n",
       "      <th>2022-03-30</th>\n",
       "      <td>46975.73</td>\n",
       "      <td>24386.734</td>\n",
       "      <td>1.926282</td>\n",
       "    </tr>\n",
       "    <tr>\n",
       "      <th>2022-03-31</th>\n",
       "      <td>46253.01</td>\n",
       "      <td>24386.734</td>\n",
       "      <td>1.896646</td>\n",
       "    </tr>\n",
       "    <tr>\n",
       "      <th>2022-04-01</th>\n",
       "      <td>46442.75</td>\n",
       "      <td>24851.809</td>\n",
       "      <td>1.868787</td>\n",
       "    </tr>\n",
       "  </tbody>\n",
       "</table>\n",
       "</div>"
      ],
      "text/plain": [
       "            wilshire5K        GDP  buffett_ind\n",
       "2022-03-28    46693.42  24386.734     1.914706\n",
       "2022-03-29    47349.95  24386.734     1.941627\n",
       "2022-03-30    46975.73  24386.734     1.926282\n",
       "2022-03-31    46253.01  24386.734     1.896646\n",
       "2022-04-01    46442.75  24851.809     1.868787"
      ]
     },
     "execution_count": 6,
     "metadata": {},
     "output_type": "execute_result"
    }
   ],
   "source": [
    "# Concat dataframes to calculate Buffett Indicator\n",
    "combined = pd.concat([wilshire_price, gdp_data],  axis=1).dropna()\n",
    "combined['buffett_ind'] = combined['wilshire5K'] / combined['GDP']\n",
    "combined.tail()"
   ]
  },
  {
   "cell_type": "code",
   "execution_count": 7,
   "metadata": {},
   "outputs": [
    {
     "data": {
      "text/plain": [
       "count    10783.000000\n",
       "mean         0.869552\n",
       "std          0.362732\n",
       "min          0.312246\n",
       "25%          0.580544\n",
       "50%          0.841780\n",
       "75%          1.109196\n",
       "max          2.046225\n",
       "Name: buffett_ind, dtype: float64"
      ]
     },
     "execution_count": 7,
     "metadata": {},
     "output_type": "execute_result"
    }
   ],
   "source": [
    "# Calculate Buffet Indicator stats\n",
    "stats = combined['buffett_ind'].describe()\n",
    "stats"
   ]
  },
  {
   "cell_type": "code",
   "execution_count": 8,
   "metadata": {},
   "outputs": [
    {
     "data": {
      "text/plain": [
       "<matplotlib.legend.Legend at 0x260397a1400>"
      ]
     },
     "execution_count": 8,
     "metadata": {},
     "output_type": "execute_result"
    },
    {
     "data": {
      "image/png": "[encoded data removed]",
      "text/plain": [
       "<Figure size 1152x576 with 1 Axes>"
      ]
     },
     "metadata": {
      "needs_background": "light"
     },
     "output_type": "display_data"
    }
   ],
   "source": [
    "# Plot Buffet Indicator \n",
    "combined['buffett_ind'].plot(figsize=(16,8), title='Wilshire 5000 Price Index / GDP', grid=True, xlabel='Date', ylabel= '%', c='b')\n",
    "plt.axhline(stats['mean'], c='y', label='Mean')\n",
    "plt.axhline(stats['50%'], label='Mode', c='c')\n",
    "plt.axhline(stats['25%'], label='25%', c='g')\n",
    "plt.axhline(stats['75%'], label='75%', c='r')\n",
    "plt.legend()"
   ]
  }
 ],
 "metadata": {
  "interpreter": {
   "hash": "d857d7a3fdc215273d3e7bd03730bc21a1d5d6581ceefe545f379a469331409c"
  },
  "kernelspec": {
   "display_name": "Python 3.9.12 ('dataanalysis')",
   "language": "python",
   "name": "python3"
  },
  "language_info": {
   "codemirror_mode": {
    "name": "ipython",
    "version": 3
   },
   "file_extension": ".py",
   "mimetype": "text/x-python",
   "name": "python",
   "nbconvert_exporter": "python",
   "pygments_lexer": "ipython3",
   "version": "3.9.12"
  },
  "orig_nbformat": 4
 },
 "nbformat": 4,
 "nbformat_minor": 2
}
