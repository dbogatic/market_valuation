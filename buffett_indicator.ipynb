{
 "cells": [
  {
   "cell_type": "markdown",
   "metadata": {},
   "source": [
    "# Buffett Indicator\n",
    "### The Buffett Indicator is the ratio of total United States stock market valuation to GDP.\n",
    "### The most common measurement of the aggregate value of the US stock market is the Wilshire 5000.\n",
    "\n",
    "Source:\n",
    "[FRED](https://fred.stlouisfed.org/graph/?g=qLC)"
   ]
  },
  {
   "cell_type": "code",
   "execution_count": 25,
   "metadata": {},
   "outputs": [],
   "source": [
    "import pandas as pd\n",
    "import numpy as np\n",
    "import os\n",
    "from dotenv import load_dotenv\n",
    "import fredapi\n",
    "from fredapi import Fred\n",
    "import matplotlib.pyplot as plt\n",
    "%matplotlib inline"
   ]
  },
  {
   "cell_type": "code",
   "execution_count": 26,
   "metadata": {},
   "outputs": [
    {
     "data": {
      "text/plain": [
       "True"
      ]
     },
     "execution_count": 26,
     "metadata": {},
     "output_type": "execute_result"
    }
   ],
   "source": [
    "load_dotenv()"
   ]
  },
  {
   "cell_type": "code",
   "execution_count": 27,
   "metadata": {},
   "outputs": [],
   "source": [
    "api_key = os.getenv('FRED_API_KEY')\n",
    "fred = Fred(api_key=api_key)"
   ]
  },
  {
   "cell_type": "code",
   "execution_count": 28,
   "metadata": {},
   "outputs": [
    {
     "data": {
      "text/html": [
       "<div>\n",
       "<style scoped>\n",
       "    .dataframe tbody tr th:only-of-type {\n",
       "        vertical-align: middle;\n",
       "    }\n",
       "\n",
       "    .dataframe tbody tr th {\n",
       "        vertical-align: top;\n",
       "    }\n",
       "\n",
       "    .dataframe thead th {\n",
       "        text-align: right;\n",
       "    }\n",
       "</style>\n",
       "<table border=\"1\" class=\"dataframe\">\n",
       "  <thead>\n",
       "    <tr style=\"text-align: right;\">\n",
       "      <th></th>\n",
       "      <th>wilshire5K</th>\n",
       "    </tr>\n",
       "  </thead>\n",
       "  <tbody>\n",
       "    <tr>\n",
       "      <th>2022-12-02</th>\n",
       "      <td>41324.08</td>\n",
       "    </tr>\n",
       "    <tr>\n",
       "      <th>2022-12-05</th>\n",
       "      <td>40510.83</td>\n",
       "    </tr>\n",
       "    <tr>\n",
       "      <th>2022-12-06</th>\n",
       "      <td>39915.31</td>\n",
       "    </tr>\n",
       "    <tr>\n",
       "      <th>2022-12-07</th>\n",
       "      <td>39830.21</td>\n",
       "    </tr>\n",
       "    <tr>\n",
       "      <th>2022-12-08</th>\n",
       "      <td>40132.30</td>\n",
       "    </tr>\n",
       "  </tbody>\n",
       "</table>\n",
       "</div>"
      ],
      "text/plain": [
       "            wilshire5K\n",
       "2022-12-02    41324.08\n",
       "2022-12-05    40510.83\n",
       "2022-12-06    39915.31\n",
       "2022-12-07    39830.21\n",
       "2022-12-08    40132.30"
      ]
     },
     "execution_count": 28,
     "metadata": {},
     "output_type": "execute_result"
    }
   ],
   "source": [
    "# Pull WIlshire 5000 Price data\n",
    "wilshire_price = fred.get_series('WILL5000PR', observation_start='1970-01-01')\n",
    "wilshire_price = pd.DataFrame(wilshire_price, columns={'wilshire5K'})\n",
    "wilshire_price = wilshire_price.dropna()\n",
    "wilshire_price.tail()"
   ]
  },
  {
   "cell_type": "code",
   "execution_count": 29,
   "metadata": {},
   "outputs": [
    {
     "data": {
      "text/html": [
       "<div>\n",
       "<style scoped>\n",
       "    .dataframe tbody tr th:only-of-type {\n",
       "        vertical-align: middle;\n",
       "    }\n",
       "\n",
       "    .dataframe tbody tr th {\n",
       "        vertical-align: top;\n",
       "    }\n",
       "\n",
       "    .dataframe thead th {\n",
       "        text-align: right;\n",
       "    }\n",
       "</style>\n",
       "<table border=\"1\" class=\"dataframe\">\n",
       "  <thead>\n",
       "    <tr style=\"text-align: right;\">\n",
       "      <th></th>\n",
       "      <th>GDP</th>\n",
       "    </tr>\n",
       "  </thead>\n",
       "  <tbody>\n",
       "    <tr>\n",
       "      <th>2022-06-27</th>\n",
       "      <td>25248.476</td>\n",
       "    </tr>\n",
       "    <tr>\n",
       "      <th>2022-06-28</th>\n",
       "      <td>25248.476</td>\n",
       "    </tr>\n",
       "    <tr>\n",
       "      <th>2022-06-29</th>\n",
       "      <td>25248.476</td>\n",
       "    </tr>\n",
       "    <tr>\n",
       "      <th>2022-06-30</th>\n",
       "      <td>25248.476</td>\n",
       "    </tr>\n",
       "    <tr>\n",
       "      <th>2022-07-01</th>\n",
       "      <td>25698.960</td>\n",
       "    </tr>\n",
       "  </tbody>\n",
       "</table>\n",
       "</div>"
      ],
      "text/plain": [
       "                  GDP\n",
       "2022-06-27  25248.476\n",
       "2022-06-28  25248.476\n",
       "2022-06-29  25248.476\n",
       "2022-06-30  25248.476\n",
       "2022-07-01  25698.960"
      ]
     },
     "execution_count": 29,
     "metadata": {},
     "output_type": "execute_result"
    }
   ],
   "source": [
    "# Pull US GDP data and set frequency data to daily and ffill data\n",
    "gdp_data = fred.get_series('GDP', observation_start='1970-01-01').asfreq('d').ffill()\n",
    "gdp_data = pd.DataFrame(gdp_data, columns={'GDP'})\n",
    "gdp_data.tail()"
   ]
  },
  {
   "cell_type": "code",
   "execution_count": 30,
   "metadata": {},
   "outputs": [
    {
     "data": {
      "text/html": [
       "<div>\n",
       "<style scoped>\n",
       "    .dataframe tbody tr th:only-of-type {\n",
       "        vertical-align: middle;\n",
       "    }\n",
       "\n",
       "    .dataframe tbody tr th {\n",
       "        vertical-align: top;\n",
       "    }\n",
       "\n",
       "    .dataframe thead th {\n",
       "        text-align: right;\n",
       "    }\n",
       "</style>\n",
       "<table border=\"1\" class=\"dataframe\">\n",
       "  <thead>\n",
       "    <tr style=\"text-align: right;\">\n",
       "      <th></th>\n",
       "      <th>wilshire5K</th>\n",
       "      <th>GDP</th>\n",
       "      <th>buffett_ind</th>\n",
       "    </tr>\n",
       "  </thead>\n",
       "  <tbody>\n",
       "    <tr>\n",
       "      <th>2022-06-27</th>\n",
       "      <td>39574.58</td>\n",
       "      <td>25248.476</td>\n",
       "      <td>1.567405</td>\n",
       "    </tr>\n",
       "    <tr>\n",
       "      <th>2022-06-28</th>\n",
       "      <td>38774.65</td>\n",
       "      <td>25248.476</td>\n",
       "      <td>1.535722</td>\n",
       "    </tr>\n",
       "    <tr>\n",
       "      <th>2022-06-29</th>\n",
       "      <td>38697.67</td>\n",
       "      <td>25248.476</td>\n",
       "      <td>1.532673</td>\n",
       "    </tr>\n",
       "    <tr>\n",
       "      <th>2022-06-30</th>\n",
       "      <td>38338.74</td>\n",
       "      <td>25248.476</td>\n",
       "      <td>1.518458</td>\n",
       "    </tr>\n",
       "    <tr>\n",
       "      <th>2022-07-01</th>\n",
       "      <td>38773.35</td>\n",
       "      <td>25698.960</td>\n",
       "      <td>1.508752</td>\n",
       "    </tr>\n",
       "  </tbody>\n",
       "</table>\n",
       "</div>"
      ],
      "text/plain": [
       "            wilshire5K        GDP  buffett_ind\n",
       "2022-06-27    39574.58  25248.476     1.567405\n",
       "2022-06-28    38774.65  25248.476     1.535722\n",
       "2022-06-29    38697.67  25248.476     1.532673\n",
       "2022-06-30    38338.74  25248.476     1.518458\n",
       "2022-07-01    38773.35  25698.960     1.508752"
      ]
     },
     "execution_count": 30,
     "metadata": {},
     "output_type": "execute_result"
    }
   ],
   "source": [
    "# Concat dataframes to calculate Buffett Indicator\n",
    "combined = pd.concat([wilshire_price, gdp_data],  axis=1).dropna()\n",
    "combined['buffett_ind'] = combined['wilshire5K'] / combined['GDP']\n",
    "combined.tail()"
   ]
  },
  {
   "cell_type": "code",
   "execution_count": 31,
   "metadata": {},
   "outputs": [
    {
     "data": {
      "text/plain": [
       "count    10845.000000\n",
       "mean         0.872906\n",
       "std          0.363671\n",
       "min          0.312246\n",
       "25%          0.581939\n",
       "50%          0.847125\n",
       "75%          1.116607\n",
       "max          2.017122\n",
       "Name: buffett_ind, dtype: float64"
      ]
     },
     "execution_count": 31,
     "metadata": {},
     "output_type": "execute_result"
    }
   ],
   "source": [
    "# Calculate Buffet Indicator stats\n",
    "stats = combined['buffett_ind'].describe()\n",
    "stats"
   ]
  },
  {
   "cell_type": "code",
   "execution_count": 32,
   "metadata": {},
   "outputs": [
    {
     "data": {
      "text/plain": [
       "<matplotlib.legend.Legend at 0x7fad76659290>"
      ]
     },
     "execution_count": 32,
     "metadata": {},
     "output_type": "execute_result"
    },
    {
     "data": {
      "image/png": "[encoded data removed]",
      "text/plain": [
       "<Figure size 1152x576 with 1 Axes>"
      ]
     },
     "metadata": {
      "needs_background": "light"
     },
     "output_type": "display_data"
    }
   ],
   "source": [
    "# Plot Buffet Indicator \n",
    "combined['buffett_ind'].plot(figsize=(16,8), title='Wilshire 5000 Price Index / GDP', grid=True, xlabel='Date', ylabel= '%', c='b')\n",
    "plt.axhline(stats['mean'], c='y', label='Mean')\n",
    "plt.axhline(stats['50%'], label='Mode', c='c')\n",
    "plt.axhline(stats['25%'], label='25%', c='g')\n",
    "plt.axhline(stats['75%'], label='75%', c='r')\n",
    "plt.legend()"
   ]
  }
 ],
 "metadata": {
  "kernelspec": {
   "display_name": "dataanalysis",
   "language": "python",
   "name": "python3"
  },
  "language_info": {
   "codemirror_mode": {
    "name": "ipython",
    "version": 3
   },
   "file_extension": ".py",
   "mimetype": "text/x-python",
   "name": "python",
   "nbconvert_exporter": "python",
   "pygments_lexer": "ipython3",
   "version": "3.9.12 (main, Apr  4 2022, 05:22:27) [MSC v.1916 64 bit (AMD64)]"
  },
  "orig_nbformat": 4,
  "vscode": {
   "interpreter": {
    "hash": "d857d7a3fdc215273d3e7bd03730bc21a1d5d6581ceefe545f379a469331409c"
   }
  }
 },
 "nbformat": 4,
 "nbformat_minor": 2
}
